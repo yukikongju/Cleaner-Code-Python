{
 "cells": [
  {
   "cell_type": "markdown",
   "metadata": {},
   "source": [
    "#### Loop over a range of numbers"
   ]
  },
  {
   "cell_type": "code",
   "execution_count": null,
   "metadata": {},
   "outputs": [],
   "source": [
    "\"\"\" BAD \"\"\"\n",
    "for i in [0,1,2,3,4,5]:\n",
    "    print (i**2)\n",
    "\n",
    "\"\"\" GOOD \"\"\"\n",
    "for i in range(6):\n",
    "    print (i**2)"
   ]
  },
  {
   "cell_type": "markdown",
   "metadata": {},
   "source": [
    "#### Loop over a collection"
   ]
  },
  {
   "cell_type": "code",
   "execution_count": null,
   "metadata": {},
   "outputs": [],
   "source": [
    "colors = ['red', 'blue', 'green', 'pink']\n",
    "\n",
    "\"\"\" BAD \"\"\"\n",
    "for i in range(len(colors)):\n",
    "    print(colors[i])\n",
    "\n",
    "\"\"\" GOOD \"\"\"\n",
    "for color in colors:\n",
    "    print (color)"
   ]
  },
  {
   "cell_type": "markdown",
   "metadata": {},
   "source": [
    "#### Looping Backward"
   ]
  },
  {
   "cell_type": "code",
   "execution_count": null,
   "metadata": {},
   "outputs": [],
   "source": [
    "colors = ['red', 'blue', 'green', 'pink']\n",
    "\n",
    "\"\"\" BAD \"\"\"\n",
    "for i in range(len(colors)-1, -1, -1):\n",
    "    print(colors[i])\n",
    "    \n",
    "\"\"\" GOOD \"\"\"\n",
    "for color in reversed(colors):\n",
    "    print(color)"
   ]
  },
  {
   "cell_type": "markdown",
   "metadata": {},
   "source": [
    "#### Loop over a collection and indices\n"
   ]
  },
  {
   "cell_type": "code",
   "execution_count": null,
   "metadata": {},
   "outputs": [],
   "source": [
    "colors = ['red', 'blue', 'green', 'pink']\n",
    "\n",
    "\"\"\" BAD \"\"\"\n",
    "for i in range(len(colors)):\n",
    "    print(i, ':', colors[i])\n",
    "\n",
    "\"\"\" GOOD \"\"\"\n",
    "for i, color in enumerate(colors):\n",
    "    print(i, ':', color)"
   ]
  },
  {
   "cell_type": "markdown",
   "metadata": {},
   "source": [
    "#### Loop over two collections"
   ]
  },
  {
   "cell_type": "code",
   "execution_count": null,
   "metadata": {},
   "outputs": [],
   "source": [
    "colors = ['red', 'blue', 'green', 'pink']\n",
    "names = ['ray', 'bob', 'sam']\n",
    "\n",
    "\"\"\" BAD \"\"\"\n",
    "n = min(len(names), len(colors))\n",
    "for i in range(n):\n",
    "    print(names[i], ':', colors[i])\n",
    "    \n",
    "\"\"\" GOOD \"\"\"\n",
    "for name, color in zip(names, colors):\n",
    "    print(name, ':', color)\n",
    "    \n",
    "\"\"\" BETTER \"\"\"\n",
    "for name, color in izip(names, colors):\n",
    "    print(name, ':', color)"
   ]
  },
  {
   "cell_type": "markdown",
   "metadata": {},
   "source": [
    "#### Loop in sorted order"
   ]
  },
  {
   "cell_type": "code",
   "execution_count": null,
   "metadata": {},
   "outputs": [],
   "source": [
    "colors = ['red', 'blue', 'green', 'pink']\n",
    "\n",
    "\"\"\" GOOD \"\"\"\n",
    "for color in sorted(colors):\n",
    "    print(color)"
   ]
  },
  {
   "cell_type": "markdown",
   "metadata": {},
   "source": [
    "#### Loop in reversed order"
   ]
  },
  {
   "cell_type": "code",
   "execution_count": 19,
   "metadata": {},
   "outputs": [
    {
     "name": "stdout",
     "output_type": "stream",
     "text": [
      "red\n",
      "pink\n",
      "green\n",
      "blue\n"
     ]
    }
   ],
   "source": [
    "colors = ['red', 'blue', 'green', 'pink']\n",
    "\n",
    "\"\"\" GOOD \"\"\"\n",
    "for color in sorted(colors, reverse = True):\n",
    "    print(color)"
   ]
  },
  {
   "cell_type": "markdown",
   "metadata": {},
   "source": [
    "#### Custom sort order"
   ]
  },
  {
   "cell_type": "code",
   "execution_count": 22,
   "metadata": {},
   "outputs": [
    {
     "name": "stdout",
     "output_type": "stream",
     "text": [
      "['red', 'blue', 'pink', 'green']\n"
     ]
    }
   ],
   "source": [
    "colors = ['red', 'blue', 'green', 'pink']\n",
    "\n",
    "def compare_length(c1, c2):\n",
    "    if len(c1) < len(c2): return -1\n",
    "    if len(c1) > len(c2): return 1\n",
    "    return 0\n",
    "\n",
    "\"\"\" BAD \"\"\"\n",
    "#print(sorted(colors, cmp=compare_length))\n",
    "\n",
    "\"\"\" GOOD \"\"\"\n",
    "print(sorted(colors, key = len))"
   ]
  },
  {
   "cell_type": "markdown",
   "metadata": {},
   "source": [
    "#### Call a function until a sentinel value: break"
   ]
  },
  {
   "cell_type": "code",
   "execution_count": null,
   "metadata": {},
   "outputs": [],
   "source": [
    "blocks = []\n",
    "\n",
    "\"\"\" BAD \"\"\"\n",
    "while True:\n",
    "    block = f.read(32)\n",
    "    if block == '':\n",
    "        break\n",
    "    blocks.append(block)\n",
    "    \n",
    "\"\"\" GOOD \"\"\"\n",
    "for block in iter(partial(f.read, 32), ''):\n",
    "    blocks.append(block)"
   ]
  },
  {
   "cell_type": "markdown",
   "metadata": {},
   "source": [
    "#### Distinguishing multiple exit points in loops"
   ]
  },
  {
   "cell_type": "code",
   "execution_count": null,
   "metadata": {},
   "outputs": [],
   "source": [
    "\"\"\" BAD \"\"\"\n",
    "def find(seq, target):\n",
    "    found = False\n",
    "    for i, value in enumerate(seq):\n",
    "        if value == target:\n",
    "            found = True\n",
    "            break\n",
    "    if not found:\n",
    "        return -1\n",
    "    return i\n",
    "\n",
    "\"\"\" GOOD \"\"\"\n",
    "def find(seq, target):\n",
    "    for i, value in enumerate(seq):\n",
    "        if value == target:\n",
    "            break\n",
    "    else:\n",
    "        return -1\n",
    "    return i "
   ]
  },
  {
   "cell_type": "markdown",
   "metadata": {},
   "source": [
    "#### Loop over dictionary keys"
   ]
  },
  {
   "cell_type": "code",
   "execution_count": 29,
   "metadata": {},
   "outputs": [
    {
     "name": "stdout",
     "output_type": "stream",
     "text": [
      "matt\n",
      "rach\n",
      "ronny\n"
     ]
    }
   ],
   "source": [
    "d = {'matt': 'blue', 'rach': 'green', 'ronny': 'red'}\n",
    "\n",
    "\"\"\" okay if no action inside \"\"\"\n",
    "for k in d:\n",
    "    print(k)"
   ]
  },
  {
   "cell_type": "markdown",
   "metadata": {},
   "source": [
    "#### Loop over dictionnary keys and values"
   ]
  },
  {
   "cell_type": "code",
   "execution_count": null,
   "metadata": {},
   "outputs": [],
   "source": [
    "\"\"\" BAD \"\"\"\n",
    "for k in d:\n",
    "    print(k, ':', d[k])\n",
    "    \n",
    "\"\"\" GOOD \"\"\"\n",
    "for k, v in d.items():\n",
    "    print(k, ':', v)\n",
    "    \n",
    "\"\"\" BETTER \"\"\"\n",
    "for k, v in d.iteritems():\n",
    "    print(k, ':', v)"
   ]
  },
  {
   "cell_type": "markdown",
   "metadata": {},
   "source": [
    "#### Construct a dictionary from pairs"
   ]
  },
  {
   "cell_type": "code",
   "execution_count": 38,
   "metadata": {},
   "outputs": [],
   "source": [
    "colors = ['red', 'blue', 'green']\n",
    "names = ['ray', 'bob', 'sam']\n",
    "\n",
    "\"\"\" GOOD \"\"\"\n",
    "d = dict(zip(names, colors))\n",
    "\n",
    "\"\"\" BETTER \"\"\"\n",
    "d = dict(enumerate(names))"
   ]
  },
  {
   "cell_type": "markdown",
   "metadata": {},
   "source": [
    "#### Counting with dictionnaries"
   ]
  },
  {
   "cell_type": "code",
   "execution_count": 49,
   "metadata": {},
   "outputs": [],
   "source": [
    "from collections import defaultdict\n",
    "\n",
    "colors = ['red', 'blue', 'green', 'red', 'blue', 'green']\n",
    "\n",
    "\"\"\" BAD \"\"\"\n",
    "d = {}\n",
    "for color in colors:\n",
    "    if color not in d:\n",
    "        d[color] = 0\n",
    "    d[color] += 1\n",
    "\n",
    "\"\"\" GOOD \"\"\"\n",
    "d = {}\n",
    "for color in colors:\n",
    "    d[color] = d.get(color, 0) + 1\n",
    "\n",
    "\"\"\" NOT FOR BEGINNERS \"\"\"\n",
    "d = defaultdict(int)\n",
    "for color in colors:\n",
    "    d[color] += 1"
   ]
  },
  {
   "cell_type": "markdown",
   "metadata": {},
   "source": [
    "#### Grouping with dictionnaries"
   ]
  },
  {
   "cell_type": "code",
   "execution_count": 51,
   "metadata": {},
   "outputs": [],
   "source": [
    "from collections import defaultdict\n",
    "\n",
    "colors = ['red', 'blue', 'green', 'red', 'blue', 'green']\n",
    "\n",
    "\"\"\" GOOD \"\"\"\n",
    "d = {}\n",
    "for color in colors:\n",
    "    key = len(color)\n",
    "    if key not in d:\n",
    "        d[key] = []\n",
    "    d[key].append(color)\n",
    "\n",
    "\"\"\" BETTER \"\"\"\n",
    "d = {}\n",
    "for color in colors:\n",
    "    key = len(color)\n",
    "    d.setdefault(key, []).append(color)\n",
    "\n",
    "\"\"\" EVEN BETTER \"\"\"\n",
    "d = defaultdict(list)\n",
    "for color in colors:\n",
    "    key = len(color)\n",
    "    d[key].append(color)"
   ]
  },
  {
   "cell_type": "markdown",
   "metadata": {},
   "source": [
    "#### Using dictionnaries with popitem()\n",
    "\n"
   ]
  },
  {
   "cell_type": "code",
   "execution_count": 54,
   "metadata": {},
   "outputs": [
    {
     "name": "stdout",
     "output_type": "stream",
     "text": [
      "sam : green\n",
      "bob : blue\n",
      "matt : red\n"
     ]
    }
   ],
   "source": [
    "d = {'matt': 'red', 'bob': 'blue', 'sam': 'green'}\n",
    "\n",
    "while d:\n",
    "    key, value = d.popitem()\n",
    "    print(key, ':', value)"
   ]
  },
  {
   "cell_type": "markdown",
   "metadata": {},
   "source": [
    "#### Linking dictionaries"
   ]
  },
  {
   "cell_type": "code",
   "execution_count": null,
   "metadata": {},
   "outputs": [],
   "source": []
  }
 ],
 "metadata": {
  "kernelspec": {
   "display_name": "Python 3",
   "language": "python",
   "name": "python3"
  },
  "language_info": {
   "codemirror_mode": {
    "name": "ipython",
    "version": 3
   },
   "file_extension": ".py",
   "mimetype": "text/x-python",
   "name": "python",
   "nbconvert_exporter": "python",
   "pygments_lexer": "ipython3",
   "version": "3.7.7"
  }
 },
 "nbformat": 4,
 "nbformat_minor": 4
}
